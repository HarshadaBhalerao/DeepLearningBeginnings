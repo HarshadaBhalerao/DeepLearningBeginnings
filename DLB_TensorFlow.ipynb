{
  "nbformat": 4,
  "nbformat_minor": 0,
  "metadata": {
    "colab": {
      "name": "DLB_TensorFlow.ipynb",
      "provenance": [],
      "authorship_tag": "ABX9TyMkaG8alYJDRa5QCGV/sBwE",
      "include_colab_link": true
    },
    "kernelspec": {
      "name": "python3",
      "display_name": "Python 3"
    }
  },
  "cells": [
    {
      "cell_type": "markdown",
      "metadata": {
        "id": "view-in-github",
        "colab_type": "text"
      },
      "source": [
        "<a href=\"https://colab.research.google.com/github/cxbxmxcx/DeepLearningBeginnings/blob/master/DLB_TensorFlow.ipynb\" target=\"_parent\"><img src=\"https://colab.research.google.com/assets/colab-badge.svg\" alt=\"Open In Colab\"/></a>"
      ]
    },
    {
      "cell_type": "markdown",
      "metadata": {
        "id": "92_Lp4UfSj9L",
        "colab_type": "text"
      },
      "source": [
        "Import and setup"
      ]
    },
    {
      "cell_type": "code",
      "metadata": {
        "id": "CYQrqc_vRpUp",
        "colab_type": "code",
        "outputId": "029f9545-a29a-4ae0-a20b-e5609f38a59a",
        "colab": {
          "base_uri": "https://localhost:8080/",
          "height": 34
        }
      },
      "source": [
        "import numpy as np\n",
        "import matplotlib.pyplot as plt\n",
        "from pylab import rcParams\n",
        "import tensorflow as tf\n",
        "from tensorflow import keras\n",
        "from tensorflow.keras import layers\n",
        "\n",
        "print(tf.__version__)\n",
        "\n",
        "%matplotlib inline\n",
        "\n",
        "rcParams['figure.figsize'] = 12, 6\n",
        "\n",
        "RANDOM_SEED = 56\n",
        "\n",
        "np.random.seed(RANDOM_SEED)"
      ],
      "execution_count": 0,
      "outputs": [
        {
          "output_type": "stream",
          "text": [
            "1.15.0\n"
          ],
          "name": "stdout"
        }
      ]
    },
    {
      "cell_type": "markdown",
      "metadata": {
        "id": "cE4nVJrhScBM",
        "colab_type": "text"
      },
      "source": [
        "Environment Data"
      ]
    },
    {
      "cell_type": "code",
      "metadata": {
        "id": "ZEA-9Y8eR1Dd",
        "colab_type": "code",
        "colab": {}
      },
      "source": [
        "X = np.array([[1], [2], [3]])\n",
        "Y = np.array([ [1], [0], [1]])"
      ],
      "execution_count": 0,
      "outputs": []
    },
    {
      "cell_type": "code",
      "metadata": {
        "id": "lliv4L_8W5Ob",
        "colab_type": "code",
        "colab": {}
      },
      "source": [
        "def build_model():\n",
        "  model = keras.Sequential([\n",
        "    layers.Dense(10, input_shape=[1]), \n",
        "    layers.Dense(32),\n",
        "    layers.Dense(32),\n",
        "    layers.Dense(1)\n",
        "  ])\n",
        "\n",
        "  optimizer = tf.keras.optimizers.Adam(0.1)\n",
        "\n",
        "  model.compile(loss='mse',\n",
        "                optimizer=optimizer,\n",
        "                metrics=['mae', 'mse'])\n",
        "  return model"
      ],
      "execution_count": 0,
      "outputs": []
    },
    {
      "cell_type": "code",
      "metadata": {
        "id": "VL-fj0LbXWMz",
        "colab_type": "code",
        "outputId": "dcba76a0-2fe7-4b0a-c0ea-231acead87a8",
        "colab": {
          "base_uri": "https://localhost:8080/",
          "height": 294
        }
      },
      "source": [
        "model = build_model()\n",
        "model.summary()"
      ],
      "execution_count": 0,
      "outputs": [
        {
          "output_type": "stream",
          "text": [
            "Model: \"sequential_4\"\n",
            "_________________________________________________________________\n",
            "Layer (type)                 Output Shape              Param #   \n",
            "=================================================================\n",
            "dense_10 (Dense)             (None, 10)                20        \n",
            "_________________________________________________________________\n",
            "dense_11 (Dense)             (None, 32)                352       \n",
            "_________________________________________________________________\n",
            "dense_12 (Dense)             (None, 32)                1056      \n",
            "_________________________________________________________________\n",
            "dense_13 (Dense)             (None, 1)                 33        \n",
            "=================================================================\n",
            "Total params: 1,461\n",
            "Trainable params: 1,461\n",
            "Non-trainable params: 0\n",
            "_________________________________________________________________\n"
          ],
          "name": "stdout"
        }
      ]
    },
    {
      "cell_type": "code",
      "metadata": {
        "id": "hzpUYV86XeA5",
        "colab_type": "code",
        "colab": {}
      },
      "source": [
        "EPOCHS = 1000\n",
        "\n",
        "history = model.fit(X, Y, epochs=EPOCHS, validation_split = 0, verbose=0)"
      ],
      "execution_count": 0,
      "outputs": []
    },
    {
      "cell_type": "code",
      "metadata": {
        "id": "grPqvZX_YXl3",
        "colab_type": "code",
        "outputId": "8f1fb27b-0751-4db2-8313-72731b6df374",
        "colab": {
          "base_uri": "https://localhost:8080/",
          "height": 388
        }
      },
      "source": [
        "# Get training and test loss histories\n",
        "training_loss = history.history['loss']\n",
        "\n",
        "# Create count of the number of epochs\n",
        "epoch_count = range(1, len(training_loss) + 1)\n",
        "\n",
        "# Visualize loss history\n",
        "plt.plot(epoch_count, training_loss, 'r--')\n",
        "plt.legend(['Training Loss', 'Test Loss'])\n",
        "plt.xlabel('Epoch')\n",
        "plt.ylabel('Loss')\n",
        "plt.show();"
      ],
      "execution_count": 0,
      "outputs": [
        {
          "output_type": "display_data",
          "data": {
            "image/png": "[encoded data removed]",
            "text/plain": [
              "<Figure size 864x432 with 1 Axes>"
            ]
          },
          "metadata": {
            "tags": []
          }
        }
      ]
    },
    {
      "cell_type": "markdown",
      "metadata": {
        "id": "dzycmZJeUuQC",
        "colab_type": "text"
      },
      "source": [
        "Predict"
      ]
    },
    {
      "cell_type": "code",
      "metadata": {
        "id": "aOEZSxLaUs2N",
        "colab_type": "code",
        "outputId": "99f62591-0a89-4146-b99f-556e6a385aec",
        "colab": {
          "base_uri": "https://localhost:8080/",
          "height": 34
        }
      },
      "source": [
        "model.predict([2])"
      ],
      "execution_count": 0,
      "outputs": [
        {
          "output_type": "execute_result",
          "data": {
            "text/plain": [
              "array([[0.66666675]], dtype=float32)"
            ]
          },
          "metadata": {
            "tags": []
          },
          "execution_count": 67
        }
      ]
    }
  ]
}